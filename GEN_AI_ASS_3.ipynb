{
  "nbformat": 4,
  "nbformat_minor": 0,
  "metadata": {
    "colab": {
      "provenance": [],
      "include_colab_link": true
    },
    "kernelspec": {
      "name": "python3",
      "display_name": "Python 3"
    },
    "language_info": {
      "name": "python"
    }
  },
  "cells": [
    {
      "cell_type": "markdown",
      "metadata": {
        "id": "view-in-github",
        "colab_type": "text"
      },
      "source": [
        "<a href=\"https://colab.research.google.com/github/Perumandlasanjaykumar13/GENARATIVE_AI/blob/main/GEN_AI_ASS_3.ipynb\" target=\"_parent\"><img src=\"https://colab.research.google.com/assets/colab-badge.svg\" alt=\"Open In Colab\"/></a>"
      ]
    },
    {
      "cell_type": "markdown",
      "source": [
        "Q1"
      ],
      "metadata": {
        "id": "iE7rTX4uz6PO"
      }
    },
    {
      "source": [
        "def f(x):\n",
        "  return 5 * x**4 + 3 * x**2 + 10\n",
        "def df(x):\n",
        "  return 20 * x**3 + 6 * x\n",
        "def gradient_descent(learning_rate=0.01, iterations=1000, initial_x=1):\n",
        "  x = initial_x\n",
        "  for _ in range(iterations):\n",
        "    x = x - learning_rate * df(x)\n",
        "  return x\n",
        "min_x = gradient_descent()\n",
        "print(\"The value of x at which the function has a minimum is:\", min_x)"
      ],
      "cell_type": "code",
      "metadata": {
        "colab": {
          "base_uri": "https://localhost:8080/"
        },
        "id": "cl1oFz53zK19",
        "outputId": "54383f2c-d46a-48d5-802d-779d9bf320e4"
      },
      "execution_count": 11,
      "outputs": [
        {
          "output_type": "stream",
          "name": "stdout",
          "text": [
            "The value of x at which the function has a minimum is: 5.963540395046457e-28\n"
          ]
        }
      ]
    },
    {
      "cell_type": "markdown",
      "source": [
        "Q2"
      ],
      "metadata": {
        "id": "1JROHDSw0ETm"
      }
    },
    {
      "source": [
        "import math\n",
        "def g(x, y):\n",
        "  return 3 * x**2 + 5 * math.exp(-y) + 10\n",
        "def dg_dx(x, y):\n",
        "  return 6 * x\n",
        "def dg_dy(x, y):\n",
        "  return -5 * math.exp(-y)\n",
        "def gradient_descent(learning_rate=0.01, iterations=1000, initial_x=1, initial_y=1):\n",
        "  x = initial_x\n",
        "  y = initial_y\n",
        "  for _ in range(iterations):\n",
        "    x = x - learning_rate * dg_dx(x, y)\n",
        "    y = y - learning_rate * dg_dy(x, y)\n",
        "  return x, y\n",
        "min_x, min_y = gradient_descent()\n",
        "print(\"The value of x at which the function has a minimum is:\", min_x)\n",
        "print(\"The value of y at which the function has a minimum is:\", min_y)"
      ],
      "cell_type": "code",
      "metadata": {
        "colab": {
          "base_uri": "https://localhost:8080/"
        },
        "id": "ZTU2V3y50G4H",
        "outputId": "5c9ca98a-6cc5-431e-8943-e62973f054e1"
      },
      "execution_count": 7,
      "outputs": [
        {
          "output_type": "stream",
          "name": "stdout",
          "text": [
            "The value of x at which the function has a minimum is: 1.3423123924933694e-27\n",
            "The value of y at which the function has a minimum is: 3.9663707936306642\n"
          ]
        }
      ]
    },
    {
      "cell_type": "markdown",
      "source": [
        "Q3"
      ],
      "metadata": {
        "id": "SR265FpU0fLN"
      }
    },
    {
      "source": [
        "import math\n",
        "def sigmoid(x):\n",
        "  \"\"\"Calculates the sigmoid of x.\"\"\"\n",
        "  return 1 / (1 + math.exp(-x))\n",
        "def sigmoid_derivative(x):\n",
        "  \"\"\"Calculates the derivative of the sigmoid function.\"\"\"\n",
        "  return sigmoid(x) * (1 - sigmoid(x))\n",
        "def gradient_descent(learning_rate=0.01, iterations=1000, initial_x=0):\n",
        "  \"\"\"Finds the minimum of the sigmoid function using gradient descent.\"\"\"\n",
        "  x = initial_x\n",
        "  for _ in range(iterations):\n",
        "    gradient = sigmoid_derivative(x)\n",
        "    x = x - learning_rate * gradient\n",
        "  return x\n",
        "min_x = gradient_descent()\n",
        "print(\"The value of x at which the sigmoid function has a minimum is:\", min_x)"
      ],
      "cell_type": "code",
      "metadata": {
        "colab": {
          "base_uri": "https://localhost:8080/"
        },
        "id": "QnpwunjQ0iMy",
        "outputId": "94d7ee89-bea3-407b-b28e-1c4bbebcf5b1"
      },
      "execution_count": 8,
      "outputs": [
        {
          "output_type": "stream",
          "name": "stdout",
          "text": [
            "The value of x at which the sigmoid function has a minimum is: -1.8618354629020137\n"
          ]
        }
      ]
    },
    {
      "cell_type": "markdown",
      "source": [
        "Q4\n"
      ],
      "metadata": {
        "id": "G-uCbrL20xsV"
      }
    },
    {
      "source": [
        "def calculate_error(M, C, data_points):\n",
        "    total_error = 0\n",
        "    for x, y in data_points:\n",
        "        predicted_y = M * x + C\n",
        "        error = (y - predicted_y) ** 2\n",
        "        total_error += error\n",
        "    return total_error\n",
        "\n",
        "def gradient_descent(data_points, learning_rate=0.01, iterations=1000):\n",
        "    M = 0\n",
        "    C = 0\n",
        "    n = len(data_points)\n",
        "\n",
        "    for _ in range(iterations):\n",
        "        dM = 0\n",
        "        dC = 0\n",
        "        for x, y in data_points:\n",
        "            predicted_y = M * x + C\n",
        "            dM += -2 * x * (y - predicted_y)\n",
        "            dC += -2 * (y - predicted_y)\n",
        "        M = M - (learning_rate * dM) / n\n",
        "        C = C - (learning_rate * dC) / n\n",
        "\n",
        "    return M, C\n",
        "data_points = [(1, 2), (2, 3), (3, 5), (4, 6), (5, 8)]\n",
        "optimal_M, optimal_C = gradient_descent(data_points)\n",
        "print(\"Optimal M:\", optimal_M)\n",
        "print(\"Optimal C:\", optimal_C)"
      ],
      "cell_type": "code",
      "metadata": {
        "colab": {
          "base_uri": "https://localhost:8080/"
        },
        "id": "7TvrnP5w1K8D",
        "outputId": "257513fb-2664-4de7-a9f0-11d89ae5b082"
      },
      "execution_count": 9,
      "outputs": [
        {
          "output_type": "stream",
          "name": "stdout",
          "text": [
            "Optimal M: 1.498995332505075\n",
            "Optimal C: 0.3036271684359493\n"
          ]
        }
      ]
    }
  ]
}